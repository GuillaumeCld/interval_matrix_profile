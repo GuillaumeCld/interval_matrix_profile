{
 "cells": [
  {
   "cell_type": "code",
   "execution_count": 3,
   "id": "303ddd6e-51de-42f3-b824-9ead172e78df",
   "metadata": {},
   "outputs": [
    {
     "name": "stdout",
     "output_type": "stream",
     "text": [
      "CMakeFiles\t     imp.cpython-312-x86_64-linux-gnu.so  libimp.so  Makefile\n",
      "cmake_install.cmake  knn\t\t\t\t  main\n"
     ]
    }
   ],
   "source": [
    "!ls ../build/src/"
   ]
  },
  {
   "cell_type": "code",
   "execution_count": 33,
   "id": "1f578d33-9bc9-4ab1-965e-cc854e996233",
   "metadata": {},
   "outputs": [],
   "source": [
    "import pandas as pd\n",
    "import numpy as np\n",
    "import matplotlib.pyplot as plt\n",
    "import seaborn as sns\n",
    "import plotly\n",
    "import plotly.graph_objects as go\n",
    "import sys\n",
    "sys.path.insert(0,'../build/src/')\n",
    "import imp"
   ]
  },
  {
   "cell_type": "code",
   "execution_count": 12,
   "id": "4230dddd-5ac5-4c4e-b03e-d1c8f76c45e8",
   "metadata": {
    "scrolled": true
   },
   "outputs": [
    {
     "name": "stdout",
     "output_type": "stream",
     "text": [
      "Help on module imp:\n",
      "\n",
      "NAME\n",
      "    imp - Pybind11 plugin for the Interval Matrix Profile (IMP). There is currently only the STOMP implementation for float and double data. It is parallel\n",
      "\n",
      "FUNCTIONS\n",
      "    imp_STOMP_double(...) method of builtins.PyCapsule instance\n",
      "        imp_STOMP_double(time_series: numpy.ndarray[numpy.float64], window_size: int, period_starts: numpy.ndarray[numpy.int32], interval_length: int, exclude: int) -> tuple[list[float], list[int]]\n",
      "\n",
      "        Compute the Interval Matrix Profile using the STOMP algorithm. The parameters are as follows:\n",
      "                time_series: numpy array, the time series data,\n",
      "                window_size: int, the size of the subsequences,\n",
      "                period_starts: numpy array, an array with the starting index of each period,\n",
      "                interval_length: int, the lentgth of the interval (parameter L of the paper),\n",
      "                exclude: int, the size of the exclusion zone.\n",
      "\n",
      "            Returns a tuple of two numpy arrays: the Interval Matrix Profile and the Interval Matrix Profile Index.\n",
      "\n",
      "    imp_STOMP_float(...) method of builtins.PyCapsule instance\n",
      "        imp_STOMP_float(time_series: numpy.ndarray[numpy.float32], window_size: int, period_starts: numpy.ndarray[numpy.int32], interval_length: int, exclude: int) -> tuple[list[float], list[int]]\n",
      "\n",
      "        Compute the Interval Matrix Profile using the STOMP algorithm. The parameters are as follows:\n",
      "                time_series: numpy array, the time series data,\n",
      "                window_size: int, the size of the subsequences,\n",
      "                period_starts: numpy array, an array with the starting index of each period,\n",
      "                interval_length: int, the lentgth of the interval (parameter L of the paper),\n",
      "                exclude: int, the size of the exclusion zone.\n",
      "\n",
      "            Returns a tuple of two numpy arrays: the Interval Matrix Profile and the Interval Matrix Profile Index.\n",
      "\n",
      "FILE\n",
      "    /home/guillaume/Devel/MP_CPP/build/src/imp.cpython-312-x86_64-linux-gnu.so\n",
      "\n",
      "\n"
     ]
    }
   ],
   "source": [
    "help(imp)"
   ]
  },
  {
   "cell_type": "code",
   "execution_count": 26,
   "id": "10fb7ba5-c29c-4ec6-9059-2b877f9a0985",
   "metadata": {},
   "outputs": [],
   "source": [
    "data_path = \"../Data/climate_pulse/SST/\"\n",
    "ts_sst = np.load(data_path+\"daily_series.npy\").astype(np.float64)\n",
    "date_sst = np.load(data_path+\"daily_series_date.npy\")"
   ]
  },
  {
   "cell_type": "code",
   "execution_count": 20,
   "id": "5a623125-ecf4-4908-befc-92955c9480f4",
   "metadata": {},
   "outputs": [],
   "source": [
    "window_size = 7\n",
    "interval_length = 61\n",
    "exclude = 7\n",
    "start_year = np.datetime64(date_sst[0], 'Y').astype(int) + 1970\n",
    "end_year = np.datetime64(date_sst[-1], 'Y').astype(int) + 1970\n",
    "period_starts = []\n",
    "for year in range(start_year, end_year+1):\n",
    "    period_starts.append(np.where(date_sst == np.datetime64(str(year) + \"-01-01\"))[0][0])"
   ]
  },
  {
   "cell_type": "code",
   "execution_count": 56,
   "id": "8303d8bd-7e81-4438-ad10-1571d067a63a",
   "metadata": {},
   "outputs": [
    {
     "name": "stdout",
     "output_type": "stream",
     "text": [
      "CPU times: user 608 ms, sys: 0 ns, total: 608 ms\n",
      "Wall time: 48 ms\n"
     ]
    }
   ],
   "source": [
    "%%time\n",
    "output = imp.imp_STOMP_double(ts_sst, window_size, period_starts, interval_length, exclude)\n",
    "_imp, _id_imp = output "
   ]
  },
  {
   "cell_type": "code",
   "execution_count": 31,
   "id": "f235fc66-c429-42d1-ba23-3c5d35babb83",
   "metadata": {},
   "outputs": [
    {
     "data": {
      "text/plain": [
       "[<matplotlib.lines.Line2D at 0x7f75f76bcf20>]"
      ]
     },
     "execution_count": 31,
     "metadata": {},
     "output_type": "execute_result"
    },
    {
     "data": {
      "image/png": "[encoded data removed]",
      "text/plain": [
       "<Figure size 640x480 with 1 Axes>"
      ]
     },
     "metadata": {},
     "output_type": "display_data"
    }
   ],
   "source": [
    "plt.plot(imp)"
   ]
  }
 ],
 "metadata": {
  "kernelspec": {
   "display_name": "Python (Detecting_climate_bursts)",
   "language": "python",
   "name": "detecting_climate_bursts"
  },
  "language_info": {
   "codemirror_mode": {
    "name": "ipython",
    "version": 3
   },
   "file_extension": ".py",
   "mimetype": "text/x-python",
   "name": "python",
   "nbconvert_exporter": "python",
   "pygments_lexer": "ipython3",
   "version": "3.12.3"
  },
  "widgets": {
   "application/vnd.jupyter.widget-state+json": {
    "state": {},
    "version_major": 2,
    "version_minor": 0
   }
  }
 },
 "nbformat": 4,
 "nbformat_minor": 5
}
